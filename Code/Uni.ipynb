{
 "cells": [
  {
   "cell_type": "markdown",
   "id": "210d9abc",
   "metadata": {},
   "source": [
    "# **🧠 Mental Health & Depression Analysis**\n",
    "\n",
    "This project aims to explore and analyze mental health and depression-related data using machine learning and statistical techniques. The goal is to uncover patterns, correlations, and potential predictive features that can contribute to better understanding and early identification of mental health issues."
   ]
  },
  {
   "cell_type": "markdown",
   "id": "9cfd4ac4",
   "metadata": {},
   "source": [
    "# Kaggle Dataset (In this notebook)\n",
    "\n",
    "This dataset comprises mental health data from 1977 Bangladeshi university students across 15 top universities, collected from November to December 2023 using Google Forms. It includes assessments of academic anxiety, stress, and depression using widely used psychometric scales. The structured questionnaire covers sociodemographic variables and their associations, facilitating comprehensive analysis. \n",
    "\n",
    "🔗 [Kaggle](https://www.kaggle.com/datasets/mohsenzergani/bangladeshi-university-students-mental-health)"
   ]
  },
  {
   "cell_type": "markdown",
   "id": "af5d86e0",
   "metadata": {},
   "source": []
  }
 ],
 "metadata": {
  "language_info": {
   "name": "python"
  }
 },
 "nbformat": 4,
 "nbformat_minor": 5
}
